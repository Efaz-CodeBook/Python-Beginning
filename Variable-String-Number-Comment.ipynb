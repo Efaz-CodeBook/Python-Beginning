{
  "nbformat": 4,
  "nbformat_minor": 0,
  "metadata": {
    "colab": {
      "provenance": []
    },
    "kernelspec": {
      "name": "python3",
      "display_name": "Python 3"
    },
    "language_info": {
      "name": "python"
    }
  },
  "cells": [
    {
      "cell_type": "markdown",
      "source": [
        "**Examples of Variables:**"
      ],
      "metadata": {
        "id": "c3ogacvFA4-T"
      }
    },
    {
      "cell_type": "code",
      "execution_count": null,
      "metadata": {
        "id": "XIv8Uglq5a95"
      },
      "outputs": [],
      "source": [
        "# Trying single variable and single print\n",
        "\n",
        "message = \"Hello Python world!\"\n",
        "print(message)"
      ]
    },
    {
      "cell_type": "code",
      "source": [
        "# Trying same variable name and multiple print\n",
        "\n",
        "message = \"Hello Python world!\"\n",
        "print(message)\n",
        "\n",
        "message = \"Hello Python Crash Course world!\"\n",
        "print(message)"
      ],
      "metadata": {
        "id": "UdwYOhlbBqHM"
      },
      "execution_count": null,
      "outputs": []
    },
    {
      "cell_type": "code",
      "source": [
        "# Intentional Error test\n",
        "\n",
        "message = \"Hello Python Coder!\"\n",
        "print(masage)"
      ],
      "metadata": {
        "id": "ml9S_R30Cd2L"
      },
      "execution_count": null,
      "outputs": []
    },
    {
      "cell_type": "code",
      "source": [
        "# Correction of Error test\n",
        "\n",
        "masage = \"Hello Python Coder!\"\n",
        "print(masage)"
      ],
      "metadata": {
        "id": "-XrJJ5IaMSFi"
      },
      "execution_count": null,
      "outputs": []
    },
    {
      "cell_type": "markdown",
      "source": [
        "**Exercise of Variables:**"
      ],
      "metadata": {
        "id": "JwyLKUEIP4IB"
      }
    },
    {
      "cell_type": "code",
      "source": [
        "# 2-1. Simple Message Exercise\n",
        "\n",
        "simple_message1 = \"This is the first simple message test\"\n",
        "print(simple_message1)"
      ],
      "metadata": {
        "id": "jgS80OXPMjS5"
      },
      "execution_count": null,
      "outputs": []
    },
    {
      "cell_type": "code",
      "source": [
        "# 2-2. Simple Messages Exercise\n",
        "\n",
        "simple_message2 = \"This is the second simple message test\"\n",
        "print(simple_message2)\n",
        "\n",
        "simple_message3 = \"This is the third simple message test\"\n",
        "print(simple_message3)"
      ],
      "metadata": {
        "id": "ttA8iyYMQt01"
      },
      "execution_count": null,
      "outputs": []
    },
    {
      "cell_type": "markdown",
      "source": [
        "**Examples of Strings:**"
      ],
      "metadata": {
        "id": "xGgqevjARZyB"
      }
    },
    {
      "cell_type": "code",
      "source": [
        "# Changing Case in a String with Methods\n",
        "# 1. Making each first character uppercase or title format\n",
        "\n",
        "name = \"data nerd\"\n",
        "print(name.title())"
      ],
      "metadata": {
        "id": "JHWDslfWRfIo"
      },
      "execution_count": null,
      "outputs": []
    },
    {
      "cell_type": "code",
      "source": [
        "# 2. Making all characters uppercase and lowercase\n",
        "\n",
        "name = \"data nerd\"\n",
        "print(name.upper())\n",
        "print(name.lower())"
      ],
      "metadata": {
        "id": "FoAwTACvTFqg"
      },
      "execution_count": null,
      "outputs": []
    },
    {
      "cell_type": "code",
      "source": [
        "# Combining or Concatenating Strings\n",
        "# 1. Only adding the two strings\n",
        "\n",
        "first_name = \"data\"\n",
        "last_name = \"nerd\"\n",
        "full_name = first_name + \" \" + last_name\n",
        "\n",
        "print(full_name)"
      ],
      "metadata": {
        "id": "PCEyrpqRUMIq"
      },
      "execution_count": null,
      "outputs": []
    },
    {
      "cell_type": "code",
      "source": [
        "# 2. Combining Title method and Concatenation\n",
        "\n",
        "first_name = \"data\"\n",
        "last_name = \"nerd\"\n",
        "full_name = first_name + \" \" + last_name\n",
        "\n",
        "print(\"Hello, \" + full_name.title() + \"!\")"
      ],
      "metadata": {
        "id": "Ey5gFreNV-KI"
      },
      "execution_count": null,
      "outputs": []
    },
    {
      "cell_type": "code",
      "source": [
        "# 3. Storing Title method and Concatenation in a veriable and print\n",
        "\n",
        "first_name = \"data\"\n",
        "last_name = \"nerd\"\n",
        "full_name = first_name + \" \" + last_name\n",
        "\n",
        "greeting = \"Hello, \" + full_name.title() + \"!\"\n",
        "\n",
        "print(greeting)"
      ],
      "metadata": {
        "id": "K6_b6w-gXMlo"
      },
      "execution_count": null,
      "outputs": []
    },
    {
      "cell_type": "code",
      "source": [
        "# Adding Whitespace to Strings with Tabs or Newlines\n",
        "# 1. Using tab feature in string\n",
        "\n",
        "print(\"Introduction\")\n",
        "print(\"\\tThe data science course is interesting.\")"
      ],
      "metadata": {
        "id": "MnQfSrW9YJJI"
      },
      "execution_count": null,
      "outputs": []
    },
    {
      "cell_type": "code",
      "source": [
        "# 2. Using new line feature in string\n",
        "\n",
        "print(\"Language:\\nJavaScript\\nC++\\nPython\")"
      ],
      "metadata": {
        "id": "_fgAMTB6ZV6J"
      },
      "execution_count": null,
      "outputs": []
    },
    {
      "cell_type": "code",
      "source": [
        "# 3. Combining tab and new line feature\n",
        "\n",
        "print(\"Language:\\n\\tJavaScript\\n\\tC++\\n\\tPython\")"
      ],
      "metadata": {
        "id": "pUBiBhc8Z9wo"
      },
      "execution_count": null,
      "outputs": []
    },
    {
      "cell_type": "code",
      "source": [
        "# Stripping Whitespace\n",
        "# 1. Temporary whitespace remove in variable (right space)\n",
        "\n",
        "favorite_language = \"python \"\n",
        "favorite_language\n",
        "favorite_language.rstrip()\n",
        "favorite_language"
      ],
      "metadata": {
        "id": "hGqrgKLjab73"
      },
      "execution_count": null,
      "outputs": []
    },
    {
      "cell_type": "code",
      "source": [
        "# 2. Permanently whitespace remove in variable (right space)\n",
        "\n",
        "favorite_language = \"python \"\n",
        "favorite_language = favorite_language.rstrip()\n",
        "favorite_language"
      ],
      "metadata": {
        "id": "siuqIwhOdZ4w"
      },
      "execution_count": null,
      "outputs": []
    },
    {
      "cell_type": "code",
      "source": [
        "# 3. Whitespace remove in variable (right & left space)\n",
        "\n",
        "favorite_language = \"   python \"\n",
        "favorite_language.rstrip()\n",
        "favorite_language.lstrip()\n",
        "favorite_language.strip()"
      ],
      "metadata": {
        "id": "GKe9Rsrrd3JI"
      },
      "execution_count": null,
      "outputs": []
    },
    {
      "cell_type": "code",
      "source": [
        "# Avoiding Syntex Errors with Strings\n",
        "# 1. Use of Single and Double Quotes\n",
        "\n",
        "message = \"One of Pyhton's strengths is its diverse community.\"\n",
        "print(message)"
      ],
      "metadata": {
        "id": "WNs13mshehOg"
      },
      "execution_count": null,
      "outputs": []
    },
    {
      "cell_type": "code",
      "source": [
        "# 2. Making mistake while using Single Quotes\n",
        "\n",
        "message = 'One of Pyhton's strengths is its diverse community.'\n",
        "print(message)"
      ],
      "metadata": {
        "id": "yi_zXi6g_E4o"
      },
      "execution_count": null,
      "outputs": []
    },
    {
      "cell_type": "code",
      "source": [
        "# Printing in Python 2\n",
        "# To initiate the command we need to run python 2\n",
        "\n",
        "print \"Hello Pyhton 2 World!\""
      ],
      "metadata": {
        "id": "9smhdlxM_c9O"
      },
      "execution_count": null,
      "outputs": []
    },
    {
      "cell_type": "markdown",
      "source": [
        "**Exercise of Strings:**"
      ],
      "metadata": {
        "id": "eBJWtiErEsoD"
      }
    },
    {
      "cell_type": "code",
      "source": [
        "# 2-3. Personal Message: Creating variable and using string\n",
        "\n",
        "person_name = \"Zahidul Haque\"\n",
        "\n",
        "print(\"Hello, \" + person_name + \". Let's learn some Python today!\")"
      ],
      "metadata": {
        "id": "rjqLyOU9EnYY"
      },
      "execution_count": null,
      "outputs": []
    },
    {
      "cell_type": "code",
      "source": [
        "# 2-4. Name Cases: Creating variable and using different cases\n",
        "\n",
        "person_name2 = \"zahidul haque\"\n",
        "\n",
        "print(person_name2.lower())\n",
        "print(person_name2.upper())\n",
        "print(person_name2.title())"
      ],
      "metadata": {
        "id": "66jcJse6Gp4d"
      },
      "execution_count": null,
      "outputs": []
    },
    {
      "cell_type": "code",
      "source": [
        "# 2-5. Famous Quote: Using different quotes to print Quote\n",
        "\n",
        "print('Hank Aaron once said, \"The only things that feels better than winning is winning when nobody thought you could.\"')"
      ],
      "metadata": {
        "id": "EOo5hZcLHgw1"
      },
      "execution_count": null,
      "outputs": []
    },
    {
      "cell_type": "code",
      "source": [
        "# 2-6. Famous Quote 2: Using different quotes to print Quote\n",
        "\n",
        "famous_person = \"Hank Aaron\"\n",
        "famous_message = '\"The only things that feels better than winning is winning when nobody thought you could.\"'\n",
        "\n",
        "print(famous_person + \" once said, \" + famous_message)"
      ],
      "metadata": {
        "id": "Nzts9vtfKIUj"
      },
      "execution_count": null,
      "outputs": []
    },
    {
      "cell_type": "code",
      "source": [
        "# 2-7. Stripping Names: using stripping and indentation\n",
        "\n",
        "person_name3 = \"   \\tRabbani \\nKhan   \"\n",
        "\n",
        "print(person_name3)\n",
        "print(person_name3.lstrip())\n",
        "print(person_name3.rstrip())\n",
        "print(person_name3.strip())\n"
      ],
      "metadata": {
        "id": "2PT6C4ILLpcr"
      },
      "execution_count": null,
      "outputs": []
    },
    {
      "cell_type": "markdown",
      "source": [
        "**Examples of Numbers:**"
      ],
      "metadata": {
        "id": "TsTxMNQqRlza"
      }
    },
    {
      "cell_type": "code",
      "source": [
        "# Integers\n",
        "# 1. Testing direct calculation in python\n",
        "\n",
        "2+3"
      ],
      "metadata": {
        "id": "80cuopD76b_t"
      },
      "execution_count": null,
      "outputs": []
    },
    {
      "cell_type": "code",
      "source": [
        "3-2"
      ],
      "metadata": {
        "id": "kPEhUEjcSeh5"
      },
      "execution_count": null,
      "outputs": []
    },
    {
      "cell_type": "code",
      "source": [
        "2*3"
      ],
      "metadata": {
        "id": "NvZBIIpfShs5"
      },
      "execution_count": null,
      "outputs": []
    },
    {
      "cell_type": "code",
      "source": [
        "3/2"
      ],
      "metadata": {
        "id": "l8ZZKiYZSjTy"
      },
      "execution_count": null,
      "outputs": []
    },
    {
      "cell_type": "code",
      "source": [
        "# 2. Using exponents\n",
        "\n",
        "3**2"
      ],
      "metadata": {
        "id": "OTBQNPQ4SmMZ"
      },
      "execution_count": null,
      "outputs": []
    },
    {
      "cell_type": "code",
      "source": [
        "3**3"
      ],
      "metadata": {
        "id": "pbEAR8aajuqm"
      },
      "execution_count": null,
      "outputs": []
    },
    {
      "cell_type": "code",
      "source": [
        "10**7"
      ],
      "metadata": {
        "id": "vcFF0ozmjyLl"
      },
      "execution_count": null,
      "outputs": []
    },
    {
      "cell_type": "code",
      "source": [
        "# 3. use multiple operations\n",
        "\n",
        "4*3+2"
      ],
      "metadata": {
        "id": "1GMm0NHhj1cl"
      },
      "execution_count": null,
      "outputs": []
    },
    {
      "cell_type": "code",
      "source": [
        "(3+2)*4"
      ],
      "metadata": {
        "id": "UZQ8o_TIkKLl"
      },
      "execution_count": null,
      "outputs": []
    },
    {
      "cell_type": "code",
      "source": [
        "# Testing Floats\n",
        "# 1. Simple operations of decimal numbers\n",
        "\n",
        "0.1+0.1"
      ],
      "metadata": {
        "id": "jEbBfTFHkT8G"
      },
      "execution_count": null,
      "outputs": []
    },
    {
      "cell_type": "code",
      "source": [
        "0.2+0.3"
      ],
      "metadata": {
        "id": "j2HzGhhzoa7z"
      },
      "execution_count": null,
      "outputs": []
    },
    {
      "cell_type": "code",
      "source": [
        "2*0.2"
      ],
      "metadata": {
        "id": "CYMfMMl4odv2"
      },
      "execution_count": null,
      "outputs": []
    },
    {
      "cell_type": "code",
      "source": [
        "0.2*0.2"
      ],
      "metadata": {
        "id": "iCiACpjZoizW"
      },
      "execution_count": null,
      "outputs": []
    },
    {
      "cell_type": "code",
      "source": [
        "# 3. Some arbitrary errors\n",
        "\n",
        "0.2+0.1"
      ],
      "metadata": {
        "id": "G2qn-jcLo-pE"
      },
      "execution_count": null,
      "outputs": []
    },
    {
      "cell_type": "code",
      "source": [
        "3 * 0.1"
      ],
      "metadata": {
        "id": "ckk0VqDnpIw0"
      },
      "execution_count": null,
      "outputs": []
    },
    {
      "cell_type": "code",
      "source": [
        "# Avoiding Type Errors with the str() Function\n",
        "# 1. Doing an intentional mistake by combining integer with string\n",
        "\n",
        "age = 25\n",
        "message2 = \"Happy \" + age + \"th Birthday!\"\n",
        "print(message2)"
      ],
      "metadata": {
        "id": "y-xUdubZppmL"
      },
      "execution_count": null,
      "outputs": []
    },
    {
      "cell_type": "code",
      "source": [
        "# 2. Correcting the intentional mistake of combining integer with string\n",
        "\n",
        "age = 25\n",
        "message2 = \"Happy \" + str(age) + \"th Birthday!\"\n",
        "print(message2)"
      ],
      "metadata": {
        "id": "BYRILULdq-7C"
      },
      "execution_count": null,
      "outputs": []
    },
    {
      "cell_type": "code",
      "source": [
        "# Integers in Python 2\n",
        "# 1. Trying integer to integer division test (perhaps the bug is fixed in python 3)\n",
        "\n",
        "5/2"
      ],
      "metadata": {
        "id": "DGufNg4lrQei"
      },
      "execution_count": null,
      "outputs": []
    },
    {
      "cell_type": "code",
      "source": [
        "# 2. Trying integer to integer division if decimal value is not shown\n",
        "\n",
        "5.0/2"
      ],
      "metadata": {
        "id": "tXuDgtwxsHZT"
      },
      "execution_count": null,
      "outputs": []
    },
    {
      "cell_type": "code",
      "source": [
        "5/2.0"
      ],
      "metadata": {
        "id": "qRaw_Ho3sY5s"
      },
      "execution_count": null,
      "outputs": []
    },
    {
      "cell_type": "code",
      "source": [
        "5.0/2.0"
      ],
      "metadata": {
        "id": "ibIHELY_sa0L"
      },
      "execution_count": null,
      "outputs": []
    },
    {
      "cell_type": "markdown",
      "source": [
        "**Exercise of Numbers:**"
      ],
      "metadata": {
        "id": "Y1sH1QAksjBA"
      }
    },
    {
      "cell_type": "code",
      "source": [
        "# 2-8. Number Eight:\n",
        "# Trying all basic operations\n",
        "\n",
        "print(4+4)\n",
        "print(36-28)\n",
        "print(8*1)\n",
        "print(16/2)"
      ],
      "metadata": {
        "id": "Ua9qR6lFscLy"
      },
      "execution_count": null,
      "outputs": []
    },
    {
      "cell_type": "code",
      "source": [
        "# 2-9. Favorite Number:\n",
        "# Trying writing a string by a number stored in variable\n",
        "\n",
        "favorite_number = 242\n",
        "print(\"My village is \" + str(favorite_number) + \" miles away.\")"
      ],
      "metadata": {
        "id": "NfrBK2M0tdUJ"
      },
      "execution_count": null,
      "outputs": []
    },
    {
      "cell_type": "markdown",
      "source": [
        "**Examples of Comments:**"
      ],
      "metadata": {
        "id": "ajfShFsKueiR"
      }
    },
    {
      "cell_type": "code",
      "source": [
        "\"\"\"\n",
        "How Do You Write Comments?\n",
        "Here I am commenting for comments!\n",
        "\"\"\"\n",
        "\n",
        "# Say hello to everyone.\n",
        "print(\"Hello Python people!\")"
      ],
      "metadata": {
        "id": "tht02HAfum9a"
      },
      "execution_count": null,
      "outputs": []
    },
    {
      "cell_type": "markdown",
      "source": [
        "**Exercise of Comments:**"
      ],
      "metadata": {
        "id": "oigldOLc1g0j"
      }
    },
    {
      "cell_type": "code",
      "source": [
        "\"\"\"\n",
        "2-10. Adding Comments:\n",
        "Practicing Comments inside python.\n",
        "\"\"\"\n",
        "\n",
        "# This is the variable of first name\n",
        "\n",
        "first_name1 = \"Data\"\n",
        "\n",
        "# This is the last name\n",
        "\n",
        "last_name1 = \"Nerd\"\n",
        "\n",
        "# Printing full name\n",
        "\n",
        "print(first_name1 + \" \" + last_name1)"
      ],
      "metadata": {
        "id": "fSKzvt3nvZI4"
      },
      "execution_count": null,
      "outputs": []
    },
    {
      "cell_type": "code",
      "source": [
        "# Importing external modules\n",
        "\n",
        "import this"
      ],
      "metadata": {
        "id": "bBANSC8Hysx_"
      },
      "execution_count": null,
      "outputs": []
    }
  ]
}