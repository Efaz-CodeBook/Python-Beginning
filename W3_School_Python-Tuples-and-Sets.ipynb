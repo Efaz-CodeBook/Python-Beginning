{
  "nbformat": 4,
  "nbformat_minor": 0,
  "metadata": {
    "colab": {
      "provenance": [],
      "collapsed_sections": [
        "ydFM7fIzc7ad"
      ]
    },
    "kernelspec": {
      "name": "python3",
      "display_name": "Python 3"
    },
    "language_info": {
      "name": "python"
    }
  },
  "cells": [
    {
      "cell_type": "markdown",
      "source": [
        "\n",
        "# Practice of W3 School (Tuples)\n",
        "\n",
        "*   Tuples is unchangeable, means we are unable to use value changing modules here\n",
        "*   Tuples is ordered like list, means each value of it has unique position number\n",
        "*   It allows duplicate values.\n"
      ],
      "metadata": {
        "id": "ydFM7fIzc7ad"
      }
    },
    {
      "cell_type": "markdown",
      "source": [
        "Python Tuples:"
      ],
      "metadata": {
        "id": "Gle5Y0DDhLeD"
      }
    },
    {
      "cell_type": "code",
      "execution_count": null,
      "metadata": {
        "id": "AXSGOisWcbXp"
      },
      "outputs": [],
      "source": [
        "# Printing Tuples is exactly same as list\n",
        "# Tuples uses first bracket '()' to store data\n",
        "# It also an example of duplicate value store\n",
        "\n",
        "favorite_fruits = (\"apple\", \"banana\", \"orange\", \"apple\", \"mango\")\n",
        "\n",
        "print(favorite_fruits)"
      ]
    },
    {
      "cell_type": "code",
      "source": [
        "# Itentifying length of tulpes is same as list\n",
        "\n",
        "favorite_fruits = (\"apple\", \"banana\", \"orange\", \"apple\", \"mango\")\n",
        "\n",
        "print(len(favorite_fruits))"
      ],
      "metadata": {
        "id": "WQyOvoyQggx7"
      },
      "execution_count": null,
      "outputs": []
    },
    {
      "cell_type": "code",
      "source": [
        "# To become a tuple it require at least one comma ',' separation\n",
        "\n",
        "favorite_fruit = (\"apple\",)\n",
        "\n",
        "print(type(favorite_fruit))\n",
        "\n",
        "# It will not be a tuple as no comma ','\n",
        "\n",
        "favorite_fruits = (\"apple\")\n",
        "\n",
        "print(type(favorite_fruits))"
      ],
      "metadata": {
        "id": "4f9gsthlhYDn"
      },
      "execution_count": null,
      "outputs": []
    },
    {
      "cell_type": "code",
      "source": [
        "# Tuples allows multiple data types: String, numeric, boolean\n",
        "\n",
        "tuple_string = (\"apple\", \"banana\", \"orange\", \"apple\", \"mango\")\n",
        "tuple_int = (51, 5, 44, 98, 77, 81)\n",
        "tuple_boolean = (False, False, True, True, False)\n",
        "\n",
        "print(tuple_string)\n",
        "print(tuple_int)\n",
        "print(tuple_boolean)"
      ],
      "metadata": {
        "id": "Gh9qOwARiEZU"
      },
      "execution_count": null,
      "outputs": []
    },
    {
      "cell_type": "code",
      "source": [
        "# Tuples also allows multiple data types: String, numeric, boolean in one variable\n",
        "\n",
        "tuple_types = (\"banana\", 52, \"orange\", True)\n",
        "\n",
        "print(tuple_types)"
      ],
      "metadata": {
        "id": "gGbmwbZEjZLE"
      },
      "execution_count": null,
      "outputs": []
    },
    {
      "cell_type": "code",
      "source": [
        "# Identifying data type of tuple\n",
        "\n",
        "tuple_types = (\"apple\", \"banana\", \"cherry\")\n",
        "print(type(tuple_types))"
      ],
      "metadata": {
        "id": "23QNon6bkEMb"
      },
      "execution_count": null,
      "outputs": []
    },
    {
      "cell_type": "code",
      "source": [
        "# To change a data type into tuple\n",
        "\n",
        "tuple_string = tuple([\"apple\", \"banana\", \"orange\", \"apple\", \"mango\"]) # square bracket '[]' is used to determine list\n",
        "\n",
        "print(tuple_string)"
      ],
      "metadata": {
        "id": "w6vlnRCskZlj"
      },
      "execution_count": null,
      "outputs": []
    },
    {
      "cell_type": "markdown",
      "source": [
        "*   List is a collection which is ordered and changeable. Allows duplicate members.\n",
        "*   Tuple is a collection which is ordered and unchangeable. Allows duplicate members.\n",
        "*   Set is a collection which is unordered, unchangeable, and unindexed. No duplicate members.\n",
        "*   Dictionary is a collection which is ordered and changeable. No duplicate members."
      ],
      "metadata": {
        "id": "zZ5wvzDWlFUi"
      }
    },
    {
      "cell_type": "markdown",
      "source": [
        "Access Tuple Items:"
      ],
      "metadata": {
        "id": "Vo_vrzF_lZkZ"
      }
    },
    {
      "cell_type": "code",
      "source": [
        "# Printing tuple by position value\n",
        "\n",
        "tuple_string = (\"apple\", \"banana\", \"orange\", \"apple\", \"mango\")\n",
        "\n",
        "print(tuple_string[2])"
      ],
      "metadata": {
        "id": "ULGUQ2hVlY6E"
      },
      "execution_count": null,
      "outputs": []
    },
    {
      "cell_type": "code",
      "source": [
        "# Tuple also allows negative indexing\n",
        "\n",
        "tuple_string = (\"apple\", \"banana\", \"orange\", \"apple\", \"mango\")\n",
        "\n",
        "print(tuple_string[-2])"
      ],
      "metadata": {
        "id": "LaDm-qpFlyeC"
      },
      "execution_count": null,
      "outputs": []
    },
    {
      "cell_type": "code",
      "source": [
        "# Tuple also allows multiple indexing\n",
        "\n",
        "tuple_string = (\"apple\", \"banana\", \"orange\", \"apple\", \"mango\")\n",
        "\n",
        "print(tuple_string[1:4])"
      ],
      "metadata": {
        "id": "QdyfEK82l_ks"
      },
      "execution_count": null,
      "outputs": []
    },
    {
      "cell_type": "code",
      "source": [
        "# Tuple allows multiple indexing (from beginning)\n",
        "\n",
        "tuple_string = (\"apple\", \"banana\", \"orange\", \"apple\", \"mango\")\n",
        "\n",
        "print(tuple_string[:4])"
      ],
      "metadata": {
        "id": "tu_SW2-pmN8q"
      },
      "execution_count": null,
      "outputs": []
    },
    {
      "cell_type": "code",
      "source": [
        "# Tuple allows multiple indexing (to ending)\n",
        "\n",
        "tuple_string = (\"apple\", \"banana\", \"orange\", \"apple\", \"mango\")\n",
        "\n",
        "print(tuple_string[3:])"
      ],
      "metadata": {
        "id": "_XOeh3Xbme3y"
      },
      "execution_count": null,
      "outputs": []
    },
    {
      "cell_type": "code",
      "source": [
        "# Tuple also allows multiple indexing by negative\n",
        "\n",
        "tuple_string = (\"apple\", \"banana\", \"orange\", \"apple\", \"mango\")\n",
        "\n",
        "print(tuple_string[-4:-2])"
      ],
      "metadata": {
        "id": "zf4z5PxSmk0a"
      },
      "execution_count": null,
      "outputs": []
    },
    {
      "cell_type": "code",
      "source": [
        "# Searching a value in tuples\n",
        "\n",
        "tuple_string = (\"apple\", \"banana\", \"orange\", \"apple\", \"mango\")\n",
        "if \"orange\" in tuple_string:\n",
        "  print(\"Orange is my favorite fruit\")"
      ],
      "metadata": {
        "id": "42lg0KvNmy1j"
      },
      "execution_count": null,
      "outputs": []
    },
    {
      "cell_type": "markdown",
      "source": [
        "Update Tuples:"
      ],
      "metadata": {
        "id": "J49ahigGnaha"
      }
    },
    {
      "cell_type": "code",
      "source": [
        "# To update a tuple it requires to convert it as list first\n",
        "\n",
        "tuple_string = (\"apple\", \"banana\", \"orange\", \"apple\", \"mango\")\n",
        "fruit_list = list(tuple_string)\n",
        "fruit_list[3] = \"kiwi\"\n",
        "tuple_string = tuple(fruit_list)\n",
        "\n",
        "print(tuple_string)"
      ],
      "metadata": {
        "id": "GBjAyUS9nb_D"
      },
      "execution_count": null,
      "outputs": []
    },
    {
      "cell_type": "code",
      "source": [
        "# Adding value in tuple but required conversion\n",
        "\n",
        "tuple_string = (\"apple\", \"banana\", \"orange\", \"apple\", \"mango\")\n",
        "fruit_list = list(tuple_string)\n",
        "fruit_list.append(\"kiwi\")\n",
        "tuple_string = tuple(fruit_list)\n",
        "\n",
        "print(tuple_string)"
      ],
      "metadata": {
        "id": "A2H09BuDo32p"
      },
      "execution_count": null,
      "outputs": []
    },
    {
      "cell_type": "code",
      "source": [
        "# Adding value in tuple but not required conversion\n",
        "\n",
        "tuple_string = (\"apple\", \"banana\", \"orange\", \"apple\", \"mango\")\n",
        "fruit_list = (\"kiwi\",)\n",
        "tuple_string += fruit_list\n",
        "\n",
        "print(tuple_string)"
      ],
      "metadata": {
        "id": "8hqu8K_FpegK"
      },
      "execution_count": null,
      "outputs": []
    },
    {
      "cell_type": "code",
      "source": [
        "# Removing value in tuple but required conversion\n",
        "\n",
        "tuple_string = (\"apple\", \"banana\", \"orange\", \"apple\", \"mango\")\n",
        "fruit_list = list(tuple_string)\n",
        "fruit_list.remove(\"banana\")\n",
        "tuple_string = tuple(fruit_list)\n",
        "\n",
        "print(tuple_string)"
      ],
      "metadata": {
        "id": "ZN8WxxDgqCci"
      },
      "execution_count": null,
      "outputs": []
    },
    {
      "cell_type": "code",
      "source": [
        "# Removing all veriable in tuple\n",
        "\n",
        "tuple_string = (\"apple\", \"banana\", \"orange\", \"apple\", \"mango\")\n",
        "del tuple_string\n",
        "\n",
        "print(tuple_string) # As the variable will be deleted, no variable will be matched and will show error"
      ],
      "metadata": {
        "id": "um3AHVQYqRZq"
      },
      "execution_count": null,
      "outputs": []
    },
    {
      "cell_type": "markdown",
      "source": [
        "Unpack Tuples:"
      ],
      "metadata": {
        "id": "U4RPQOPSt-Pt"
      }
    },
    {
      "cell_type": "code",
      "source": [
        "# Tuples allows exact value backed variables\n",
        "# In this case we need exact same number of variables as tuple value\n",
        "# Here all value need to be unique as variable, otherwise the last value will be displayed\n",
        "\n",
        "tuple_values = (\"apple\", \"banana\", \"orange\", \"kiwi\", \"mango\")\n",
        "\n",
        "(red, yellow, orange, brown, green) = tuple_values   # Variables\n",
        "\n",
        "print(red)\n",
        "print(yellow)\n",
        "print(orange)\n",
        "print(brown)\n",
        "print(green)"
      ],
      "metadata": {
        "id": "NujtoEwbrDH6"
      },
      "execution_count": null,
      "outputs": []
    },
    {
      "cell_type": "code",
      "source": [
        "# In this case we are declaring last remaining will be in the last variable\n",
        "\n",
        "tuple_values = (\"apple\", \"banana\", \"orange\", \"kiwi\", \"mango\")\n",
        "\n",
        "(red, yellow, *orange) = tuple_values   # Variables\n",
        "\n",
        "print(red)\n",
        "print(yellow)\n",
        "print(orange)"
      ],
      "metadata": {
        "id": "K2K-tzaSw5Ce"
      },
      "execution_count": null,
      "outputs": []
    },
    {
      "cell_type": "code",
      "source": [
        "# In this case we are declaring middle all will be for middle variable\n",
        "\n",
        "tuple_values = (\"apple\", \"banana\", \"orange\", \"kiwi\", \"mango\")\n",
        "\n",
        "(red, *yellow, orange) = tuple_values   # Variables\n",
        "\n",
        "print(red)\n",
        "print(yellow)\n",
        "print(orange)"
      ],
      "metadata": {
        "id": "WA4NRr-cxQk0"
      },
      "execution_count": null,
      "outputs": []
    },
    {
      "cell_type": "code",
      "source": [
        "# Here we are declaring first all will be for first variable\n",
        "\n",
        "tuple_values = (\"apple\", \"banana\", \"orange\", \"kiwi\", \"mango\")\n",
        "\n",
        "(*red, yellow, orange) = tuple_values   # Variables\n",
        "\n",
        "print(red)\n",
        "print(yellow)\n",
        "print(orange)"
      ],
      "metadata": {
        "id": "_k_9-LvYxrNU"
      },
      "execution_count": null,
      "outputs": []
    },
    {
      "cell_type": "markdown",
      "source": [
        "Loop Tuples:"
      ],
      "metadata": {
        "id": "yDCKOwr8yBV0"
      }
    },
    {
      "cell_type": "code",
      "source": [
        "# Using loops into tuples\n",
        "\n",
        "tuple_values = (\"apple\", \"banana\", \"orange\", \"kiwi\", \"mango\")\n",
        "\n",
        "for x in tuple_values:\n",
        "  print(x)"
      ],
      "metadata": {
        "id": "v6vLOJMbx-vM"
      },
      "execution_count": null,
      "outputs": []
    },
    {
      "cell_type": "code",
      "source": [
        "# Using loop into tuples by indexing number\n",
        "\n",
        "tuple_values = (\"apple\", \"banana\", \"orange\", \"kiwi\", \"mango\")\n",
        "\n",
        "for i in range(len(tuple_values)):\n",
        "  print(tuple_values[i])"
      ],
      "metadata": {
        "id": "goz9n9c_yR5U"
      },
      "execution_count": null,
      "outputs": []
    },
    {
      "cell_type": "code",
      "source": [
        "# Using while loop into tuples by indexing number\n",
        "\n",
        "tuple_values = (\"apple\", \"banana\", \"orange\", \"kiwi\", \"mango\")\n",
        "i = 0\n",
        "while i < len(tuple_values):\n",
        "  print(tuple_values[i])\n",
        "  i = i+1   # it will update the value of i after each loop"
      ],
      "metadata": {
        "id": "TQjhLjJdyq1c"
      },
      "execution_count": null,
      "outputs": []
    },
    {
      "cell_type": "markdown",
      "source": [
        "Join Tuples:"
      ],
      "metadata": {
        "id": "QzDewIkFzamC"
      }
    },
    {
      "cell_type": "code",
      "source": [
        "# Add one tuple to another\n",
        "\n",
        "alphabets = (\"a\", \"b\", \"c\")\n",
        "numbers = (1, 2, 3)\n",
        "\n",
        "pass_source = alphabets + numbers\n",
        "print(pass_source)"
      ],
      "metadata": {
        "id": "vFS4wmYszRAU"
      },
      "execution_count": null,
      "outputs": []
    },
    {
      "cell_type": "code",
      "source": [
        "# Multiply the tuple\n",
        "\n",
        "alphabets = (\"a\", \"b\", \"c\")\n",
        "numbers = (1, 2, 3)\n",
        "\n",
        "mult_alphabets = alphabets * 2\n",
        "mult_numbers = numbers * 3\n",
        "print(mult_alphabets)\n",
        "print(mult_numbers)"
      ],
      "metadata": {
        "id": "_w1zkHq70m5U"
      },
      "execution_count": null,
      "outputs": []
    },
    {
      "cell_type": "markdown",
      "source": [
        "Tuple Methods:"
      ],
      "metadata": {
        "id": "42yMovkn1E-S"
      }
    },
    {
      "cell_type": "code",
      "source": [
        "# Using the other methods of tuple from W3 school\n",
        "\n",
        "alphabets = (\"a\", \"bgf\", \"a\", \"l\", \"a\", \"c\")\n",
        "\n",
        "print(alphabets.count(\"a\"))\n",
        "print(alphabets.index(\"a\"))   # Index only provide the position of first value"
      ],
      "metadata": {
        "id": "1Dz1-qGs1Hf6"
      },
      "execution_count": null,
      "outputs": []
    },
    {
      "cell_type": "markdown",
      "source": [
        "Tuple Exercises:"
      ],
      "metadata": {
        "id": "wMTnMjTy2ZAT"
      }
    },
    {
      "cell_type": "code",
      "source": [
        "# Printing the first item from the tuple\n",
        "\n",
        "tuple_values = (\"apple\", \"banana\", \"orange\", \"kiwi\", \"mango\")\n",
        "\n",
        "print(tuple_values[0])"
      ],
      "metadata": {
        "id": "ZuEMrG1r2XxF"
      },
      "execution_count": null,
      "outputs": []
    },
    {
      "cell_type": "markdown",
      "source": [
        "# Practice of W3 School (Sets)\n",
        "\n",
        "\n",
        "*   Sets are unchangeable, means we are unable to use value changing modules here.\n",
        "*   Sets are unordered, means position of the values are not defined like lists and tuples.\n",
        "*   Sets do not allow duplicate value.\n",
        "\n"
      ],
      "metadata": {
        "id": "bjQZTIvJcYLM"
      }
    },
    {
      "cell_type": "markdown",
      "source": [
        "Python Sets:"
      ],
      "metadata": {
        "id": "mn08N78iomaJ"
      }
    },
    {
      "cell_type": "code",
      "source": [
        "# Creating a Set with curly parentheses\n",
        "\n",
        "fruits_set = {\"mango\", \"apple\", \"banana\", \"kiwi\", \"cherry\"}\n",
        "print(fruits_set)"
      ],
      "metadata": {
        "id": "l09KXD6AdxjF"
      },
      "execution_count": null,
      "outputs": []
    },
    {
      "cell_type": "code",
      "source": [
        "# Checking duplicate value print\n",
        "\n",
        "fruits_set = {\"mango\", \"kiwi\", \"apple\", \"banana\", \"kiwi\", \"cherry\"}\n",
        "print(fruits_set)"
      ],
      "metadata": {
        "id": "ZpbHPAXDogzS"
      },
      "execution_count": null,
      "outputs": []
    },
    {
      "cell_type": "code",
      "source": [
        "# Checking duplicate value where True and 1 is considered as same\n",
        "\n",
        "fruits_set = {\"mango\", True, \"apple\", \"banana\", \"kiwi\", \"cherry\", 1 ,52}\n",
        "print(fruits_set)"
      ],
      "metadata": {
        "id": "xpAeZx5mo7ox"
      },
      "execution_count": null,
      "outputs": []
    },
    {
      "cell_type": "code",
      "source": [
        "# Getting the number of values in set\n",
        "\n",
        "fruits_set = {\"mango\", \"apple\", \"banana\", \"kiwi\", \"cherry\"}\n",
        "print(len(fruits_set))"
      ],
      "metadata": {
        "id": "byJ4Fyacplaq"
      },
      "execution_count": null,
      "outputs": []
    },
    {
      "cell_type": "code",
      "source": [
        "# Sets also the string, number & boolean data type\n",
        "\n",
        "set_string = {\"mango\", \"apple\", \"banana\", \"kiwi\", \"cherry\"}\n",
        "set_number = {1, 2, 51, 18, 26}\n",
        "set_boolean = {True, True, False, True, True}\n",
        "\n",
        "print(set_string)\n",
        "print(set_number)\n",
        "print(set_boolean)"
      ],
      "metadata": {
        "id": "BoIflvsup6DT"
      },
      "execution_count": null,
      "outputs": []
    },
    {
      "cell_type": "code",
      "source": [
        "# All data type can include in one set\n",
        "\n",
        "all_sets = {\"banana\", True, 45, \"54\"}\n",
        "print(all_sets)"
      ],
      "metadata": {
        "id": "5GW-Zscvq0HK"
      },
      "execution_count": null,
      "outputs": []
    },
    {
      "cell_type": "code",
      "source": [
        "# Type can be determined in set by type()\n",
        "\n",
        "all_sets = {\"banana\", True, 45, \"54\"}\n",
        "print(type(all_sets))"
      ],
      "metadata": {
        "id": "F8OQp6HsrOxZ"
      },
      "execution_count": null,
      "outputs": []
    },
    {
      "cell_type": "code",
      "source": [
        "# Any data type can be converted into set by set()\n",
        "\n",
        "# Type can be determined in set by type()\n",
        "\n",
        "all_sets = set([\"banana\", True, 45, \"54\"])\n",
        "print(all_sets)\n",
        "print(type(all_sets))"
      ],
      "metadata": {
        "id": "VVSSqkP9ri2J"
      },
      "execution_count": null,
      "outputs": []
    },
    {
      "cell_type": "markdown",
      "source": [
        "Access Set Items:"
      ],
      "metadata": {
        "id": "jcRzEg2bsLvv"
      }
    },
    {
      "cell_type": "code",
      "source": [
        "# As there is no positional value set can not be accessed by position\n",
        "# To print loop can be used \n",
        "\n",
        "fruits_set = {\"mango\", \"apple\", \"banana\", \"kiwi\", \"cherry\"}\n",
        "\n",
        "for x in fruits_set:\n",
        "  print(x)"
      ],
      "metadata": {
        "id": "2errIIbdsKs4"
      },
      "execution_count": null,
      "outputs": []
    },
    {
      "cell_type": "code",
      "source": [
        "# It can also be checked by calling it by name\n",
        "\n",
        "fruits_set = {\"mango\", \"apple\", \"banana\", \"kiwi\", \"cherry\"}\n",
        "\n",
        "print(\"kiwi\" in fruits_set)"
      ],
      "metadata": {
        "id": "9-_IAeUAsyzo"
      },
      "execution_count": null,
      "outputs": []
    },
    {
      "cell_type": "markdown",
      "source": [
        "Add Set Items:"
      ],
      "metadata": {
        "id": "wlA9ExMZtSCX"
      }
    },
    {
      "cell_type": "code",
      "source": [
        "# To add some value add method can be used\n",
        "\n",
        "fruits_set = {\"mango\", \"apple\", \"banana\", \"kiwi\", \"cherry\"}\n",
        "\n",
        "fruits_set.add(\"orange\")\n",
        "print(fruits_set)"
      ],
      "metadata": {
        "id": "TV-QTmTvtMGf"
      },
      "execution_count": null,
      "outputs": []
    },
    {
      "cell_type": "code",
      "source": [
        "# To add another set update method can be used\n",
        "\n",
        "fruits_set = {\"mango\", \"apple\", \"banana\", \"kiwi\", \"cherry\"}\n",
        "flower_set = {\"rose\", \"tulip\"}\n",
        "\n",
        "fruits_set.update(flower_set)\n",
        "print(fruits_set)"
      ],
      "metadata": {
        "id": "h25g2IFrtpgZ"
      },
      "execution_count": null,
      "outputs": []
    },
    {
      "cell_type": "code",
      "source": [
        "# To add another set by update method other data type can be used\n",
        "\n",
        "fruits_set = {\"mango\", \"apple\", \"banana\", \"kiwi\", \"cherry\"}\n",
        "flower_set = [\"rose\", \"tulip\"]\n",
        "\n",
        "fruits_set.update(flower_set)\n",
        "print(fruits_set)"
      ],
      "metadata": {
        "id": "sLqJfHEBuPHP"
      },
      "execution_count": null,
      "outputs": []
    },
    {
      "cell_type": "markdown",
      "source": [
        "Remove Set Items:"
      ],
      "metadata": {
        "id": "lhNMKmEaG7vm"
      }
    },
    {
      "cell_type": "code",
      "source": [
        "# Removing items from set, using remove()\n",
        "\n",
        "fruits_set = {\"mango\", \"apple\", \"banana\", \"kiwi\", \"cherry\"}\n",
        "fruits_set.remove(\"kiwi\")\n",
        "\n",
        "print(fruits_set)"
      ],
      "metadata": {
        "id": "MS3_gb1eG-51"
      },
      "execution_count": null,
      "outputs": []
    },
    {
      "cell_type": "code",
      "source": [
        "# If removeable item does not exist in set it will show an error\n",
        "\n",
        "fruits_set = {\"mango\", \"apple\", \"banana\", \"cherry\"}\n",
        "fruits_set.remove(\"kiwi\")\n",
        "\n",
        "print(fruits_set)"
      ],
      "metadata": {
        "id": "Zmx14UwiIG9N"
      },
      "execution_count": null,
      "outputs": []
    },
    {
      "cell_type": "code",
      "source": [
        "# To exclude the error massage another module is used, call discard()\n",
        "\n",
        "fruits_set = {\"mango\", \"apple\", \"banana\", \"kiwi\", \"cherry\"}\n",
        "fruits_set.discard(\"kiwi\")\n",
        "print(fruits_set)\n",
        "\n",
        "fruits_set.discard(\"kiwi\")\n",
        "print(fruits_set)"
      ],
      "metadata": {
        "id": "9YhNB8qVJ_tl"
      },
      "execution_count": null,
      "outputs": []
    },
    {
      "cell_type": "code",
      "source": [
        "# To remove random value from set, use pop()\n",
        "\n",
        "fruits_set = {\"mango\", \"apple\", \"banana\", \"kiwi\", \"cherry\"}\n",
        "fruits_set.pop()\n",
        "print(fruits_set)"
      ],
      "metadata": {
        "id": "1jxC3SblKl4U"
      },
      "execution_count": null,
      "outputs": []
    },
    {
      "cell_type": "code",
      "source": [
        "# To remove all values from set, use clear()\n",
        "\n",
        "fruits_set = {\"mango\", \"apple\", \"banana\", \"kiwi\", \"cherry\"}\n",
        "fruits_set.clear()\n",
        "print(fruits_set)"
      ],
      "metadata": {
        "id": "LJ6ZGCpnLoqO"
      },
      "execution_count": null,
      "outputs": []
    },
    {
      "cell_type": "code",
      "source": [
        "# As before, del key delete entire set and variable\n",
        "\n",
        "fruits_set = {\"mango\", \"apple\", \"banana\", \"kiwi\", \"cherry\"}\n",
        "del fruits_set\n",
        "print(fruits_set)"
      ],
      "metadata": {
        "id": "JmGVuXD1L-78"
      },
      "execution_count": null,
      "outputs": []
    },
    {
      "cell_type": "markdown",
      "source": [
        "Loop Sets:"
      ],
      "metadata": {
        "id": "BDFP0pGFNhBD"
      }
    },
    {
      "cell_type": "code",
      "source": [
        "# Using loop in set\n",
        "\n",
        "fruits_set = {\"mango\", \"apple\", \"banana\", \"kiwi\", \"cherry\"}\n",
        "for x in fruits_set:\n",
        "  print(x)"
      ],
      "metadata": {
        "id": "Fm2fU6qPNjUS"
      },
      "execution_count": null,
      "outputs": []
    },
    {
      "cell_type": "markdown",
      "source": [
        "Join Sets:"
      ],
      "metadata": {
        "id": "P4Jj3-BLOd80"
      }
    },
    {
      "cell_type": "code",
      "source": [
        "# Like the mathmetical set, union is used to combine sets\n",
        "# Ignores duplicate value\n",
        "\n",
        "fruits_set = {\"mango\", \"apple\", \"banana\", \"kiwi\", \"cherry\"}\n",
        "flower_set = {\"rose\", \"tulip\", \"cherry\"}\n",
        "\n",
        "all_set = fruits_set.union(flower_set) # It donot change the data of first set, hence another variable required\n",
        "print(all_set)"
      ],
      "metadata": {
        "id": "EGDek80qOgcU"
      },
      "execution_count": null,
      "outputs": []
    },
    {
      "cell_type": "code",
      "source": [
        "# Unlike the union, update add data into first set\n",
        "# Ignores duplicate value\n",
        "\n",
        "fruits_set = {\"mango\", \"apple\", \"banana\", \"kiwi\", \"cherry\"}\n",
        "flower_set = {\"rose\", \"tulip\", \"cherry\"}\n",
        "\n",
        "fruits_set.update(flower_set)\n",
        "print(fruits_set)"
      ],
      "metadata": {
        "id": "2oH5OUJDPq9T"
      },
      "execution_count": null,
      "outputs": []
    },
    {
      "cell_type": "code",
      "source": [
        "# Like the mathmetical set, intersection is used to find common values in sets\n",
        "\n",
        "fruits_set = {\"mango\", \"apple\", \"banana\", \"kiwi\", \"cherry\"}\n",
        "flower_set = {\"rose\", \"tulip\", \"cherry\"}\n",
        "\n",
        "all_set = fruits_set.intersection(flower_set)\n",
        "print(all_set)"
      ],
      "metadata": {
        "id": "MeQjcyRwQKJS"
      },
      "execution_count": null,
      "outputs": []
    },
    {
      "cell_type": "code",
      "source": [
        "# Intersection + update is used to change the first variables value\n",
        "# It does not require to input new variable\n",
        "\n",
        "fruits_set = {\"mango\", \"apple\", \"banana\", \"kiwi\", \"cherry\"}\n",
        "flower_set = {\"rose\", \"tulip\", \"cherry\"}\n",
        "\n",
        "fruits_set.intersection_update(flower_set)\n",
        "print(fruits_set)"
      ],
      "metadata": {
        "id": "zP3_waLzQ838"
      },
      "execution_count": null,
      "outputs": []
    },
    {
      "cell_type": "code",
      "source": [
        "# Like the mathmetical set, symmetric_difference() is used to find non common values in sets\n",
        "\n",
        "fruits_set = {\"mango\", \"apple\", \"banana\", \"kiwi\", \"cherry\"}\n",
        "flower_set = {\"rose\", \"tulip\", \"cherry\"}\n",
        "\n",
        "all_set = fruits_set.symmetric_difference(flower_set)\n",
        "print(all_set)"
      ],
      "metadata": {
        "id": "L0cJCeosRm0B"
      },
      "execution_count": null,
      "outputs": []
    },
    {
      "cell_type": "code",
      "source": [
        "# symmetric_difference + update is used to change the first variables value\n",
        "# It does not require to input new variable\n",
        "\n",
        "fruits_set = {\"mango\", \"apple\", \"banana\", \"kiwi\", \"cherry\"}\n",
        "flower_set = {\"rose\", \"tulip\", \"cherry\"}\n",
        "\n",
        "fruits_set.symmetric_difference_update(flower_set)\n",
        "print(fruits_set)"
      ],
      "metadata": {
        "id": "jxJU4lShSUJh"
      },
      "execution_count": null,
      "outputs": []
    },
    {
      "cell_type": "code",
      "source": [
        "# Boolean True value is considered as 1\n",
        "\n",
        "fruits_set = {\"mango\", \"apple\", \"banana\", \"kiwi\", \"cherry\", True}\n",
        "flower_set = {\"rose\", \"tulip\", \"cherry\", 1, 4}\n",
        "\n",
        "all_set = fruits_set.symmetric_difference(flower_set)\n",
        "print(all_set)"
      ],
      "metadata": {
        "id": "8OuSIiEkSzzg"
      },
      "execution_count": null,
      "outputs": []
    },
    {
      "cell_type": "markdown",
      "source": [
        "Set Methods:"
      ],
      "metadata": {
        "id": "zEo_zpfSThjh"
      }
    },
    {
      "cell_type": "code",
      "source": [
        "# Copy() method copy a set into a variable\n",
        "\n",
        "fruits_set = {\"mango\", \"apple\", \"banana\", \"kiwi\", \"cherry\", True}\n",
        "flower_set = fruits_set.copy()\n",
        "\n",
        "print(flower_set)"
      ],
      "metadata": {
        "id": "R6FTy2iPTjvZ"
      },
      "execution_count": null,
      "outputs": []
    },
    {
      "cell_type": "code",
      "source": [
        "# Difference module is similer as symmetric_difference\n",
        "\n",
        "fruits_set = {\"mango\", \"apple\", \"banana\", \"kiwi\", \"cherry\"}\n",
        "flower_set = {\"rose\", \"tulip\", \"cherry\"}\n",
        "\n",
        "all_set = fruits_set.difference(flower_set)\n",
        "print(all_set)"
      ],
      "metadata": {
        "id": "0uYXhV3jVIni"
      },
      "execution_count": null,
      "outputs": []
    },
    {
      "cell_type": "code",
      "source": [
        "# isdisjoint module tests that if there is a common value between two sets or not\n",
        "# If there is a common value it tells False as they are not mutually exclusive\n",
        "\n",
        "fruits_set = {\"mango\", \"apple\", \"banana\", \"kiwi\", \"cherry\"}\n",
        "flower_set = {\"rose\", \"tulip\", \"cherry\"}\n",
        "\n",
        "all_set1 = fruits_set.isdisjoint(flower_set)\n",
        "print(all_set1)\n",
        "\n",
        "fruits_set.discard(\"cherry\")\n",
        "all_set2 = fruits_set.isdisjoint(flower_set)\n",
        "print(all_set2)"
      ],
      "metadata": {
        "id": "Rmmgz_7SWMIw"
      },
      "execution_count": null,
      "outputs": []
    },
    {
      "cell_type": "code",
      "source": [
        "# issubset tests that if the marked set is a subset of the set inside the bracket\n",
        "\n",
        "fruits_set = {\"mango\", \"apple\", \"banana\", \"kiwi\", \"cherry\"}\n",
        "red_set = {\"apple\", \"mango\", \"cherry\"}\n",
        "\n",
        "all_set = red_set.issubset(fruits_set)\n",
        "print(all_set)"
      ],
      "metadata": {
        "id": "6r-ONXnAXMpR"
      },
      "execution_count": null,
      "outputs": []
    },
    {
      "cell_type": "code",
      "source": [
        "# issuperset tests that if the marked set is a superset (contains another set) of the set inside the bracket\n",
        "\n",
        "fruits_set = {\"mango\", \"apple\", \"banana\", \"kiwi\", \"cherry\"}\n",
        "red_set = {\"apple\", \"mango\", \"cherry\"}\n",
        "\n",
        "all_set = fruits_set.issuperset(red_set)\n",
        "print(all_set)"
      ],
      "metadata": {
        "id": "jJMD3byHYsJI"
      },
      "execution_count": null,
      "outputs": []
    },
    {
      "cell_type": "markdown",
      "source": [
        "Set Exercises:"
      ],
      "metadata": {
        "id": "jX2sTlzpZIiP"
      }
    },
    {
      "cell_type": "code",
      "source": [
        "# Trying the exercise\n",
        "\n",
        "fruits = {\"apple\", \"banana\", \"cherry\"}\n",
        "if \"apple\" in fruits:\n",
        "  print(\"Yes, apple is a fruit!\")"
      ],
      "metadata": {
        "id": "ZDyiRsESZLeJ"
      },
      "execution_count": null,
      "outputs": []
    }
  ]
}